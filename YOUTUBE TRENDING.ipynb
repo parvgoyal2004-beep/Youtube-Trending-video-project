{
 "cells": [
  {
   "cell_type": "code",
   "execution_count": 1,
   "id": "978ce76d-7e6a-4f81-8629-0689038225da",
   "metadata": {},
   "outputs": [
    {
     "name": "stdout",
     "output_type": "stream",
     "text": [
      "CSV file saved as 'youtube_trending_data.csv'\n"
     ]
    }
   ],
   "source": [
    "import numpy as np\n",
    "import pandas as pd\n",
    "\n",
    "np.random.seed(42)\n",
    "n = 10000\n",
    "categories = ['Music', 'Sports', 'News', 'Gaming', 'Education']\n",
    "channels = [f'Channel_{i}' for i in range(1,101)]\n",
    "\n",
    "df = pd.DataFrame({\n",
    "    'views': np.random.randint(1000, 5_000_000, n),\n",
    "    'likes': np.random.randint(10, 300_000, n),\n",
    "    'comments': np.random.randint(0, 50_000, n),\n",
    "    'category': np.random.choice(categories, n, p=[0.3, 0.2, 0.15, 0.25, 0.1]),\n",
    "    'channel': np.random.choice(channels, n),\n",
    "    'trending': 0\n",
    "})\n",
    "\n",
    "prob_trending = (\n",
    "    (df['views']/df['views'].max()) * 0.5 +\n",
    "    (df['likes']/df['likes'].max()) * 0.3 +\n",
    "    (df['comments']/df['comments'].max()) * 0.1 +\n",
    "    (df['category'].map({'Music':0.7, 'Sports':0.4, 'News':0.2, 'Gaming':0.6, 'Education':0.2})) * 0.1\n",
    ")\n",
    "df['trending'] = (np.random.rand(n) < prob_trending).astype(int)\n",
    "\n",
    "df.to_csv('youtube_trending_data.csv', index=False)\n",
    "print(\"CSV file saved as 'youtube_trending_data.csv'\")"
   ]
  },
  {
   "cell_type": "code",
   "execution_count": null,
   "id": "3d03d3eb-27b6-4d56-bb3a-1770323d98f3",
   "metadata": {},
   "outputs": [],
   "source": []
  }
 ],
 "metadata": {
  "kernelspec": {
   "display_name": "Python [conda env:base] *",
   "language": "python",
   "name": "conda-base-py"
  },
  "language_info": {
   "codemirror_mode": {
    "name": "ipython",
    "version": 3
   },
   "file_extension": ".py",
   "mimetype": "text/x-python",
   "name": "python",
   "nbconvert_exporter": "python",
   "pygments_lexer": "ipython3",
   "version": "3.12.7"
  }
 },
 "nbformat": 4,
 "nbformat_minor": 5
}
